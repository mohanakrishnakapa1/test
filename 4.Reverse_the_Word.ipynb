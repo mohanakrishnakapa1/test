{
 "cells": [
  {
   "cell_type": "code",
   "execution_count": 1,
   "metadata": {},
   "outputs": [
    {
     "data": {
      "text/plain": [
       "'Coder Greek Hi '"
      ]
     },
     "execution_count": 1,
     "metadata": {},
     "output_type": "execute_result"
    }
   ],
   "source": [
    "def word_reverse(sentense):\n",
    "    list_wiord=[]\n",
    "    selntese_list=sentense.split(\" \")\n",
    "    while len(selntese_list) > 0:\n",
    "        word = selntese_list.pop()\n",
    "        list_wiord.append(word)\n",
    "    return ' '.join(list_wiord)\n",
    "\n",
    "sen=\" Hi Greek Coder\"\n",
    "\n",
    "word_reverse(sen)"
   ]
  },
  {
   "cell_type": "code",
   "execution_count": 15,
   "metadata": {},
   "outputs": [
    {
     "data": {
      "text/plain": [
       "'Coders Greek Hi '"
      ]
     },
     "execution_count": 15,
     "metadata": {},
     "output_type": "execute_result"
    }
   ],
   "source": [
    "def word_reverse(sentense):\n",
    "    selntese_list=sentense.split(\" \")\n",
    "    return ' '.join(selntese_list[::-1])\n",
    "\n",
    "sen=\" Hi Greek Coders\"\n",
    "\n",
    "word_reverse(sen)"
   ]
  },
  {
   "cell_type": "code",
   "execution_count": 12,
   "metadata": {},
   "outputs": [
    {
     "name": "stdout",
     "output_type": "stream",
     "text": [
      "['Coders', 'Greek', 'Hi']\n"
     ]
    }
   ],
   "source": [
    "sen=\"Hi Greek Coders\"\n",
    "selntese_list=sen.split(\" \")\n",
    "print(selntese_list[::-1])"
   ]
  },
  {
   "cell_type": "code",
   "execution_count": null,
   "metadata": {},
   "outputs": [],
   "source": []
  },
  {
   "cell_type": "code",
   "execution_count": null,
   "metadata": {},
   "outputs": [],
   "source": []
  },
  {
   "cell_type": "markdown",
   "metadata": {},
   "source": []
  }
 ],
 "metadata": {
  "kernelspec": {
   "display_name": "Python 3",
   "language": "python",
   "name": "python3"
  },
  "language_info": {
   "codemirror_mode": {
    "name": "ipython",
    "version": 3
   },
   "file_extension": ".py",
   "mimetype": "text/x-python",
   "name": "python",
   "nbconvert_exporter": "python",
   "pygments_lexer": "ipython3",
   "version": "3.11.6"
  }
 },
 "nbformat": 4,
 "nbformat_minor": 2
}
